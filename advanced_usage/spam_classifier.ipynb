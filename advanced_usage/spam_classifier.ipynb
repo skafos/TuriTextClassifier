{
 "cells": [
  {
   "cell_type": "markdown",
   "metadata": {},
   "source": [
    "## **Spam Classifier**\n",
    "\n",
    "Interested in a different text classification task?? Here we go beyond the sentiment classifier base example. Classifying arbitrary text as spam or ham is a useful task in determining the validity of a piece of text (SMS text messages, emails, posts, comments).\n",
    "\n",
    "This notebook does the following:\n",
    "1. Loads and cleans the SMS text data (from [UCI ML Repository](https://archive.ics.uci.edu/ml/datasets/SMS+Spam+Collection))\n",
    "2. Builds the spam classifier model\n",
    "3. Converts the model to CoreML format and saves the model to Skafos, pushing it to your application"
   ]
  },
  {
   "cell_type": "code",
   "execution_count": 1,
   "metadata": {},
   "outputs": [],
   "source": [
    "import requests, zipfile, io\n",
    "\n",
    "import turicreate as tc\n",
    "from skafossdk import *"
   ]
  },
  {
   "cell_type": "code",
   "execution_count": 2,
   "metadata": {
    "collapsed": true
   },
   "outputs": [
    {
     "name": "stdout",
     "output_type": "stream",
     "text": [
      "Turi Create was already installed. It's been saved to the tc variable.\n",
      "2019-01-08 18:54:08,139 - skafossdk.data_engine - INFO - Connecting to DataEngine\n",
      "2019-01-08 18:54:08,203 - skafossdk.data_engine - INFO - DataEngine Connection Opened\n"
     ]
    }
   ],
   "source": [
    "ska = Skafos() # initialize Skafos"
   ]
  },
  {
   "cell_type": "markdown",
   "metadata": {},
   "source": [
    "### 1. **Load the data**\n",
    "The data loaded below is SMS text message data labeled with \"spam\" or \"ham\". The functions below are used to download the dataset from the UCI ML Repository. The data is then split into training and testing datasets."
   ]
  },
  {
   "cell_type": "code",
   "execution_count": null,
   "metadata": {},
   "outputs": [],
   "source": [
    "def load_spam_dataset():\n",
    "    spam_url = 'https://archive.ics.uci.edu/ml/machine-learning-databases/00228/smsspamcollection.zip'\n",
    "    _request_and_unzip(spam_url, 'spam/')\n",
    "    with open(\"datasets/spam/SMSSpamCollection\", \"r\", encoding=\"utf-8\") as infile:\n",
    "        d = infile.readlines()\n",
    "    return d\n",
    "\n",
    "def _request_and_unzip(url, folder):\n",
    "    r = requests.get(url)\n",
    "    if r.ok:\n",
    "        z = zipfile.ZipFile(io.BytesIO(r.content))\n",
    "        z.extractall(f'datasets/{folder}')\n"
   ]
  },
  {
   "cell_type": "code",
   "execution_count": 3,
   "metadata": {
    "collapsed": true
   },
   "outputs": [
    {
     "name": "stdout",
     "output_type": "stream",
     "text": [
      "['ham\\tGo until jurong point, crazy.. Available only in bugis n great world la e buffet... Cine there got amore wat...\\n', 'ham\\tOk lar... Joking wif u oni...\\n', \"spam\\tFree entry in 2 a wkly comp to win FA Cup final tkts 21st May 2005. Text FA to 87121 to receive entry question(std txt rate)T&C's apply 08452810075over18's\\n\", 'ham\\tU dun say so early hor... U c already then say...\\n']\n"
     ]
    }
   ],
   "source": [
    "# Load spam text data and inspect\n",
    "spam_data = load_spam_dataset()\n",
    "print(spam_data[:4], flush=True)"
   ]
  },
  {
   "cell_type": "code",
   "execution_count": 4,
   "metadata": {},
   "outputs": [],
   "source": [
    "# Split text data from its target variable (\"ham\", \"spam\")\n",
    "spam_labels = [line.split('\\t')[0] for line in spam_data]\n",
    "spam_text = [line.split('\\t')[1].replace('\\n', '') for line in spam_data]\n",
    "spam_df = tc.SFrame({'label': spam_labels, 'text': spam_text})"
   ]
  },
  {
   "cell_type": "code",
   "execution_count": 5,
   "metadata": {},
   "outputs": [
    {
     "data": {
      "text/html": [
       "<div style=\"max-height:1000px;max-width:1500px;overflow:auto;\"><table frame=\"box\" rules=\"cols\">\n",
       "    <tr>\n",
       "        <th style=\"padding-left: 1em; padding-right: 1em; text-align: center\">label</th>\n",
       "        <th style=\"padding-left: 1em; padding-right: 1em; text-align: center\">text</th>\n",
       "    </tr>\n",
       "    <tr>\n",
       "        <td style=\"padding-left: 1em; padding-right: 1em; text-align: center; vertical-align: top\">ham</td>\n",
       "        <td style=\"padding-left: 1em; padding-right: 1em; text-align: center; vertical-align: top\">Go until jurong point,<br>crazy.. Available onl ...</td>\n",
       "    </tr>\n",
       "    <tr>\n",
       "        <td style=\"padding-left: 1em; padding-right: 1em; text-align: center; vertical-align: top\">ham</td>\n",
       "        <td style=\"padding-left: 1em; padding-right: 1em; text-align: center; vertical-align: top\">Ok lar... Joking wif u<br>oni... ...</td>\n",
       "    </tr>\n",
       "    <tr>\n",
       "        <td style=\"padding-left: 1em; padding-right: 1em; text-align: center; vertical-align: top\">spam</td>\n",
       "        <td style=\"padding-left: 1em; padding-right: 1em; text-align: center; vertical-align: top\">Free entry in 2 a wkly<br>comp to win FA Cup final ...</td>\n",
       "    </tr>\n",
       "    <tr>\n",
       "        <td style=\"padding-left: 1em; padding-right: 1em; text-align: center; vertical-align: top\">ham</td>\n",
       "        <td style=\"padding-left: 1em; padding-right: 1em; text-align: center; vertical-align: top\">U dun say so early hor...<br>U c already then say... ...</td>\n",
       "    </tr>\n",
       "    <tr>\n",
       "        <td style=\"padding-left: 1em; padding-right: 1em; text-align: center; vertical-align: top\">ham</td>\n",
       "        <td style=\"padding-left: 1em; padding-right: 1em; text-align: center; vertical-align: top\">Nah I don&#x27;t think he goes<br>to usf, he lives around ...</td>\n",
       "    </tr>\n",
       "</table>\n",
       "[5 rows x 2 columns]<br/>\n",
       "</div>"
      ],
      "text/plain": [
       "Columns:\n",
       "\tlabel\tstr\n",
       "\ttext\tstr\n",
       "\n",
       "Rows: 5\n",
       "\n",
       "Data:\n",
       "+-------+-------------------------------+\n",
       "| label |              text             |\n",
       "+-------+-------------------------------+\n",
       "|  ham  | Go until jurong point, cra... |\n",
       "|  ham  | Ok lar... Joking wif u oni... |\n",
       "|  spam | Free entry in 2 a wkly com... |\n",
       "|  ham  | U dun say so early hor... ... |\n",
       "|  ham  | Nah I don't think he goes ... |\n",
       "+-------+-------------------------------+\n",
       "[5 rows x 2 columns]"
      ]
     },
     "execution_count": 5,
     "metadata": {},
     "output_type": "execute_result"
    }
   ],
   "source": [
    "spam_df.head(5)"
   ]
  },
  {
   "cell_type": "code",
   "execution_count": 6,
   "metadata": {},
   "outputs": [],
   "source": [
    "# Make a train-test split\n",
    "train_data, test_data = spam_df.random_split(0.8)"
   ]
  },
  {
   "cell_type": "markdown",
   "metadata": {},
   "source": [
    "### 2. **Build the model**\n",
    "We pass the data to the `tc.text_classifier.create` function and specify a few arguments needed to properly run the model. To understand more about this specific function, check out the [Turi Create Documentation](https://apple.github.io/turicreate/docs/userguide/text_classifier/)."
   ]
  },
  {
   "cell_type": "code",
   "execution_count": 7,
   "metadata": {
    "collapsed": true
   },
   "outputs": [
    {
     "name": "stdout",
     "output_type": "stream",
     "text": [
      "PROGRESS: Creating a validation set from 5 percent of training data. This may take a while.\n",
      "          You can set ``validation_set=None`` to disable validation tracking.\n",
      "\n"
     ]
    },
    {
     "data": {
      "text/html": [
       "<pre>Logistic regression:</pre>"
      ],
      "text/plain": [
       "Logistic regression:"
      ]
     },
     "metadata": {},
     "output_type": "execute_result"
    },
    {
     "data": {
      "text/html": [
       "<pre>--------------------------------------------------------</pre>"
      ],
      "text/plain": [
       "--------------------------------------------------------"
      ]
     },
     "metadata": {},
     "output_type": "execute_result"
    },
    {
     "data": {
      "text/html": [
       "<pre>Number of examples          : 4205</pre>"
      ],
      "text/plain": [
       "Number of examples          : 4205"
      ]
     },
     "metadata": {},
     "output_type": "execute_result"
    },
    {
     "data": {
      "text/html": [
       "<pre>Number of classes           : 2</pre>"
      ],
      "text/plain": [
       "Number of classes           : 2"
      ]
     },
     "metadata": {},
     "output_type": "execute_result"
    },
    {
     "data": {
      "text/html": [
       "<pre>Number of feature columns   : 1</pre>"
      ],
      "text/plain": [
       "Number of feature columns   : 1"
      ]
     },
     "metadata": {},
     "output_type": "execute_result"
    },
    {
     "data": {
      "text/html": [
       "<pre>Number of unpacked features : 3389</pre>"
      ],
      "text/plain": [
       "Number of unpacked features : 3389"
      ]
     },
     "metadata": {},
     "output_type": "execute_result"
    },
    {
     "data": {
      "text/html": [
       "<pre>Number of coefficients      : 3390</pre>"
      ],
      "text/plain": [
       "Number of coefficients      : 3390"
      ]
     },
     "metadata": {},
     "output_type": "execute_result"
    },
    {
     "data": {
      "text/html": [
       "<pre>Starting L-BFGS</pre>"
      ],
      "text/plain": [
       "Starting L-BFGS"
      ]
     },
     "metadata": {},
     "output_type": "execute_result"
    },
    {
     "data": {
      "text/html": [
       "<pre>--------------------------------------------------------</pre>"
      ],
      "text/plain": [
       "--------------------------------------------------------"
      ]
     },
     "metadata": {},
     "output_type": "execute_result"
    },
    {
     "data": {
      "text/html": [
       "<pre>+-----------+----------+-----------+--------------+-------------------+---------------------+</pre>"
      ],
      "text/plain": [
       "+-----------+----------+-----------+--------------+-------------------+---------------------+"
      ]
     },
     "metadata": {},
     "output_type": "execute_result"
    },
    {
     "data": {
      "text/html": [
       "<pre>| Iteration | Passes   | Step size | Elapsed Time | Training Accuracy | Validation Accuracy |</pre>"
      ],
      "text/plain": [
       "| Iteration | Passes   | Step size | Elapsed Time | Training Accuracy | Validation Accuracy |"
      ]
     },
     "metadata": {},
     "output_type": "execute_result"
    },
    {
     "data": {
      "text/html": [
       "<pre>+-----------+----------+-----------+--------------+-------------------+---------------------+</pre>"
      ],
      "text/plain": [
       "+-----------+----------+-----------+--------------+-------------------+---------------------+"
      ]
     },
     "metadata": {},
     "output_type": "execute_result"
    },
    {
     "data": {
      "text/html": [
       "<pre>| 0         | 1        | NaN       | 1.009685     | 0.134126          | 0.147982            |</pre>"
      ],
      "text/plain": [
       "| 0         | 1        | NaN       | 1.009685     | 0.134126          | 0.147982            |"
      ]
     },
     "metadata": {},
     "output_type": "execute_result"
    },
    {
     "data": {
      "text/html": [
       "<pre>| 1         | 3        | 0.000238  | 1.088628     | 0.986920          | 0.982063            |</pre>"
      ],
      "text/plain": [
       "| 1         | 3        | 0.000238  | 1.088628     | 0.986920          | 0.982063            |"
      ]
     },
     "metadata": {},
     "output_type": "execute_result"
    },
    {
     "data": {
      "text/html": [
       "<pre>| 2         | 5        | 1.000000  | 1.186954     | 0.993341          | 0.982063            |</pre>"
      ],
      "text/plain": [
       "| 2         | 5        | 1.000000  | 1.186954     | 0.993341          | 0.982063            |"
      ]
     },
     "metadata": {},
     "output_type": "execute_result"
    },
    {
     "data": {
      "text/html": [
       "<pre>| 3         | 6        | 1.000000  | 1.199108     | 0.997146          | 0.982063            |</pre>"
      ],
      "text/plain": [
       "| 3         | 6        | 1.000000  | 1.199108     | 0.997146          | 0.982063            |"
      ]
     },
     "metadata": {},
     "output_type": "execute_result"
    },
    {
     "data": {
      "text/html": [
       "<pre>| 4         | 7        | 1.000000  | 1.287773     | 0.998573          | 0.982063            |</pre>"
      ],
      "text/plain": [
       "| 4         | 7        | 1.000000  | 1.287773     | 0.998573          | 0.982063            |"
      ]
     },
     "metadata": {},
     "output_type": "execute_result"
    },
    {
     "data": {
      "text/html": [
       "<pre>| 5         | 8        | 1.000000  | 1.384274     | 0.998811          | 0.982063            |</pre>"
      ],
      "text/plain": [
       "| 5         | 8        | 1.000000  | 1.384274     | 0.998811          | 0.982063            |"
      ]
     },
     "metadata": {},
     "output_type": "execute_result"
    },
    {
     "data": {
      "text/html": [
       "<pre>| 10        | 13       | 1.000000  | 1.689703     | 0.999524          | 0.991031            |</pre>"
      ],
      "text/plain": [
       "| 10        | 13       | 1.000000  | 1.689703     | 0.999524          | 0.991031            |"
      ]
     },
     "metadata": {},
     "output_type": "execute_result"
    },
    {
     "data": {
      "text/html": [
       "<pre>+-----------+----------+-----------+--------------+-------------------+---------------------+</pre>"
      ],
      "text/plain": [
       "+-----------+----------+-----------+--------------+-------------------+---------------------+"
      ]
     },
     "metadata": {},
     "output_type": "execute_result"
    },
    {
     "data": {
      "text/html": [
       "<pre>Completed (Iteration limit reached).</pre>"
      ],
      "text/plain": [
       "Completed (Iteration limit reached)."
      ]
     },
     "metadata": {},
     "output_type": "execute_result"
    },
    {
     "data": {
      "text/html": [
       "<pre>This model may not be optimal. To improve it, consider increasing `max_iterations`.</pre>"
      ],
      "text/plain": [
       "This model may not be optimal. To improve it, consider increasing `max_iterations`."
      ]
     },
     "metadata": {},
     "output_type": "execute_result"
    }
   ],
   "source": [
    "# Train the spam filter classification model, this takes approximately 5-10 seconds using CPU.\n",
    "spam_model = tc.text_classifier.create(train_data, target='label', features=['text'])"
   ]
  },
  {
   "cell_type": "markdown",
   "metadata": {},
   "source": [
    "### 3. **Evaluate the model**\n",
    "We will evaluate the performance of our trained model on the test set. The test set consists of data that our model has never seen before. It will provide a decent estimate of how the model will perform \"in the wild\".\n"
   ]
  },
  {
   "cell_type": "code",
   "execution_count": 8,
   "metadata": {},
   "outputs": [
    {
     "data": {
      "text/html": [
       "<div style=\"max-height:1000px;max-width:1500px;overflow:auto;\"><table frame=\"box\" rules=\"cols\">\n",
       "    <tr>\n",
       "        <th style=\"padding-left: 1em; padding-right: 1em; text-align: center\">target_label</th>\n",
       "        <th style=\"padding-left: 1em; padding-right: 1em; text-align: center\">predicted_label</th>\n",
       "        <th style=\"padding-left: 1em; padding-right: 1em; text-align: center\">count</th>\n",
       "    </tr>\n",
       "    <tr>\n",
       "        <td style=\"padding-left: 1em; padding-right: 1em; text-align: center; vertical-align: top\">spam</td>\n",
       "        <td style=\"padding-left: 1em; padding-right: 1em; text-align: center; vertical-align: top\">spam</td>\n",
       "        <td style=\"padding-left: 1em; padding-right: 1em; text-align: center; vertical-align: top\">130</td>\n",
       "    </tr>\n",
       "    <tr>\n",
       "        <td style=\"padding-left: 1em; padding-right: 1em; text-align: center; vertical-align: top\">ham</td>\n",
       "        <td style=\"padding-left: 1em; padding-right: 1em; text-align: center; vertical-align: top\">ham</td>\n",
       "        <td style=\"padding-left: 1em; padding-right: 1em; text-align: center; vertical-align: top\">991</td>\n",
       "    </tr>\n",
       "    <tr>\n",
       "        <td style=\"padding-left: 1em; padding-right: 1em; text-align: center; vertical-align: top\">ham</td>\n",
       "        <td style=\"padding-left: 1em; padding-right: 1em; text-align: center; vertical-align: top\">spam</td>\n",
       "        <td style=\"padding-left: 1em; padding-right: 1em; text-align: center; vertical-align: top\">5</td>\n",
       "    </tr>\n",
       "    <tr>\n",
       "        <td style=\"padding-left: 1em; padding-right: 1em; text-align: center; vertical-align: top\">spam</td>\n",
       "        <td style=\"padding-left: 1em; padding-right: 1em; text-align: center; vertical-align: top\">ham</td>\n",
       "        <td style=\"padding-left: 1em; padding-right: 1em; text-align: center; vertical-align: top\">20</td>\n",
       "    </tr>\n",
       "</table>\n",
       "[4 rows x 3 columns]<br/>\n",
       "</div>"
      ],
      "text/plain": [
       "Columns:\n",
       "\ttarget_label\tstr\n",
       "\tpredicted_label\tstr\n",
       "\tcount\tint\n",
       "\n",
       "Rows: 4\n",
       "\n",
       "Data:\n",
       "+--------------+-----------------+-------+\n",
       "| target_label | predicted_label | count |\n",
       "+--------------+-----------------+-------+\n",
       "|     spam     |       spam      |  130  |\n",
       "|     ham      |       ham       |  991  |\n",
       "|     ham      |       spam      |   5   |\n",
       "|     spam     |       ham       |   20  |\n",
       "+--------------+-----------------+-------+\n",
       "[4 rows x 3 columns]"
      ]
     },
     "execution_count": 8,
     "metadata": {},
     "output_type": "execute_result"
    }
   ],
   "source": [
    "# The counts where target and predicted label are the same (meaning the model got it right) should be higher\n",
    "predictions = spam_model.predict(test_data)\n",
    "tc.evaluation.confusion_matrix(test_data['label'], predictions)"
   ]
  },
  {
   "cell_type": "code",
   "execution_count": 9,
   "metadata": {},
   "outputs": [
    {
     "name": "stdout",
     "output_type": "stream",
     "text": [
      "Spam filter model has a testing accuracy of 97.81849912739965 % !\n"
     ]
    }
   ],
   "source": [
    "# Model testing accuracy\n",
    "accuracy = tc.evaluation.accuracy(test_data['label'], predictions)\n",
    "print(f'Spam filter model has a testing accuracy of {accuracy*100} % !', flush=True)"
   ]
  },
  {
   "cell_type": "markdown",
   "metadata": {},
   "source": [
    "#### **Let's put our trained model to the test even more!**"
   ]
  },
  {
   "cell_type": "code",
   "execution_count": 10,
   "metadata": {},
   "outputs": [
    {
     "name": "stdout",
     "output_type": "stream",
     "text": [
      "WINNER! You have been selected for a CASH prize! ---- spam\n",
      "hey how are you? ---- ham\n",
      "Want to be a millionaire? ---- ham\n",
      "What is the weather like today? ---- ham\n"
     ]
    }
   ],
   "source": [
    "# generate some sample text data\n",
    "sample_text = ['WINNER! You have been selected for a CASH prize!', 'hey how are you?',\n",
    "               'Want to be a millionaire?', 'What is the weather like today?']\n",
    "\n",
    "sample_predictions = spam_model.predict(tc.SFrame({'text': sample_text}))\n",
    "\n",
    "# investiage the results\n",
    "for t, p in zip(sample_text, sample_predictions):\n",
    "    print(t, '----', p)"
   ]
  }
 ],
 "metadata": {
  "kernelspec": {
   "display_name": "Python 3",
   "language": "python",
   "name": "python3"
  },
  "language_info": {
   "codemirror_mode": {
    "name": "ipython",
    "version": 3
   },
   "file_extension": ".py",
   "mimetype": "text/x-python",
   "name": "python",
   "nbconvert_exporter": "python",
   "pygments_lexer": "ipython3",
   "version": "3.6.5"
  }
 },
 "nbformat": 4,
 "nbformat_minor": 2
}
