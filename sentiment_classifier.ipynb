{
 "cells": [
  {
   "cell_type": "markdown",
   "metadata": {},
   "source": [
    "## **Turi Sentiment Classifier on Skafos**\n",
    "\n",
    "This notebook does the following:\n",
    "\n",
    "1. Loads labeled text data.\n",
    "2. Builds a sentiment classification model.\n",
    "3. Converts the model to CoreML format and saves it to the Skafos framework.\n",
    "\n",
    "The example below is based on [Turi Create's Text Classifier](https://apple.github.io/turicreate/docs/userguide/text_classifier/).\n",
    "\n",
    "Execute each cell one-by-one, by selecting the cell and do one of the following:\n",
    "-  Clicking the \"play\" button at the top of this frame.\n",
    "-  Typing 'Control + Enter' or 'Shift + Enter'.\n",
    "\n"
   ]
  },
  {
   "cell_type": "code",
   "execution_count": null,
   "metadata": {},
   "outputs": [],
   "source": [
    "# Import necessary libraries\n",
    "from skafossdk import *\n",
    "\n",
    "import utilities.save_models as sm\n",
    "from utilities.load_turicreate import *"
   ]
  },
  {
   "cell_type": "code",
   "execution_count": null,
   "metadata": {},
   "outputs": [],
   "source": [
    "tc = install_turicreate(timeout=500, retries=2) # check to make sure turicreate is installed\n",
    "ska = Skafos() # initialize Skafos"
   ]
  },
  {
   "cell_type": "markdown",
   "metadata": {},
   "source": [
    "### 1. **Load the data**\n",
    "The data for this example is Yelp review data, paired with sentiment scores. The data is randomly split into train and test sets, where 80% of the data is used for training, and 20% is used for model evaluation."
   ]
  },
  {
   "cell_type": "code",
   "execution_count": null,
   "metadata": {},
   "outputs": [],
   "source": [
    "# Load data from Turi Create's website\n",
    "data = tc.SFrame('https://static.turi.com/datasets/regression/yelp-data.csv')\n",
    "\n",
    "# Make a train-test split\n",
    "train_data, test_data = data.random_split(0.8)"
   ]
  },
  {
   "cell_type": "markdown",
   "metadata": {},
   "source": [
    "### 2. **Build the model**\n",
    "We pass the data to the `tc.text_classifier.create` function and specify the data, target variable, features, and a few other arguments needed to properly train the model. To understand more about this specific function, check out the [Turi Create Documentation](https://apple.github.io/turicreate/docs/api/generated/turicreate.text_classifier.create.html#turicreate.text_classifier.create)."
   ]
  },
  {
   "cell_type": "code",
   "execution_count": null,
   "metadata": {},
   "outputs": [],
   "source": [
    "# Train a sentiment classification model, this takes approximately 15 minutes using CPU\n",
    "model = tc.text_classifier.create(\n",
    "    dataset=train_data,\n",
    "    target='stars',\n",
    "    features=['text'],\n",
    "    drop_stop_words=True,\n",
    "    max_iterations=10\n",
    ")"
   ]
  },
  {
   "cell_type": "markdown",
   "metadata": {},
   "source": [
    "### 3. **Save the model**\n",
    "Once your model has been created, it must be saved to thr Skafos framework via the code below."
   ]
  },
  {
   "cell_type": "code",
   "execution_count": null,
   "metadata": {},
   "outputs": [],
   "source": [
    "# Export the model to CoreML\n",
    "coreml_model_name = \"text_classifier.mlmodel\"\n",
    "res = model.export_coreml(coreml_model_name)\n",
    "\n",
    "# Compress the model\n",
    "compressed_model_name, compressed_model = sm.compress_model(coreml_model_name)\n",
    "\n",
    "# Save to Skafos\n",
    "sm.skafos_save_model(\n",
    "    skafos=ska,\n",
    "    model_name=compressed_model_name,\n",
    "    compressed_model=compressed_model,\n",
    "    permissions='public'\n",
    ")"
   ]
  }
 ],
 "metadata": {
  "kernelspec": {
   "display_name": "Python 3",
   "language": "python",
   "name": "python3"
  },
  "language_info": {
   "codemirror_mode": {
    "name": "ipython",
    "version": 3
   },
   "file_extension": ".py",
   "mimetype": "text/x-python",
   "name": "python",
   "nbconvert_exporter": "python",
   "pygments_lexer": "ipython3",
   "version": "3.6.5"
  }
 },
 "nbformat": 4,
 "nbformat_minor": 2
}
