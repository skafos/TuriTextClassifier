{
 "cells": [
  {
   "cell_type": "markdown",
   "metadata": {},
   "source": [
    "## **Getting your text data into Turi Create**\n",
    "Whether you are cleaning your own data or using an open source training data set, Turi Create requires a somewhat specific format for building a text classifier. The data we are using here is from http://www.cs.jhu.edu/~mdredze/datasets/sentiment.\n",
    "\n",
    "**TL;DR** : Easiest way to get a text classifier running using Turi Create is to have a .csv with 2 columns:\n",
    "- **rating** : a numeric value indiciating good or bad or a rating on a 5 star scale\n",
    "- **text** : free text in sentence form. \n",
    "  - *Note: many open source training data sets tokenize the words for you. This is not helpful when using Turi Create to build a model.*"
   ]
  },
  {
   "cell_type": "code",
   "execution_count": 1,
   "metadata": {},
   "outputs": [],
   "source": [
    "import pandas as pd\n",
    "import turicreate as tc "
   ]
  },
  {
   "cell_type": "code",
   "execution_count": 2,
   "metadata": {},
   "outputs": [],
   "source": [
    "# some helper functions to clean up our review data\n",
    "def find_between( s, first, last ):\n",
    "    try:\n",
    "        start = s.index( first ) + len( first )\n",
    "        end = s.index( last, start )\n",
    "        return s[start:end]\n",
    "    except ValueError:\n",
    "        return \"\"\n",
    "\n",
    "# clean up string ratings by converting to int, required by Turi Create\n",
    "def try_int(string):\n",
    "    try:\n",
    "        _int = int(string.split(\".\")[0])\n",
    "        return _int\n",
    "    except:\n",
    "        return None\n",
    "\n",
    "# this was created specifically for this dataset\n",
    "def clean_review(rev):\n",
    "    text_review = find_between(rev, \"<review_text>\\n\", \"</review_text>\").replace(\"\\n\", \" \")\n",
    "    rating = find_between(rev, \"<rating>\\n\", \"\\n</rating>\")\n",
    "    return {'rating' : try_int(rating), 'review' : text_review}\n"
   ]
  },
  {
   "cell_type": "markdown",
   "metadata": {},
   "source": [
    "## **Load the data**\n",
    "We will build a model only on the electronics reviews in this data set. We load the separate positive and negative reviews."
   ]
  },
  {
   "cell_type": "code",
   "execution_count": 3,
   "metadata": {},
   "outputs": [],
   "source": [
    "## assuming you've downloaded the above linked dataset and extracted its contents\n",
    "## load the positive and negative review data\n",
    "with open(\"./sorted_data/electronics/positive.review\", \"r\", encoding=\"ISO-8859-1\") as infile:\n",
    "    positive_lines = infile.read()\n",
    "    positive_reviews = positive_lines.split(\"</review>\")\n",
    "with open(\"./sorted_data/electronics/negative.review\", \"r\", encoding=\"ISO-8859-1\") as infile:\n",
    "    negative_lines = infile.read()\n",
    "    negative_reviews = negative_lines.split(\"</review>\")"
   ]
  },
  {
   "cell_type": "markdown",
   "metadata": {},
   "source": [
    "## **Clean the data**\n",
    "The raw data was fairly messy and in a format similar to html. The below cell uses a helper function and parses in between tags to pull out the data we want."
   ]
  },
  {
   "cell_type": "code",
   "execution_count": 4,
   "metadata": {},
   "outputs": [],
   "source": [
    "# clean up the reviews using a function we wrote above\n",
    "cleaned_reviews = [clean_review(r) for r in positive_reviews + negative_reviews]\n",
    "review_df = pd.DataFrame.from_records(cleaned_reviews).dropna()\n",
    "review_df['rating']= review_df['rating'].astype(int)\n",
    "review_sframe = tc.SFrame(review_df)"
   ]
  },
  {
   "cell_type": "code",
   "execution_count": 5,
   "metadata": {},
   "outputs": [
    {
     "data": {
      "text/html": [
       "<div style=\"max-height:1000px;max-width:1500px;overflow:auto;\"><table frame=\"box\" rules=\"cols\">\n",
       "    <tr>\n",
       "        <th style=\"padding-left: 1em; padding-right: 1em; text-align: center\">rating</th>\n",
       "        <th style=\"padding-left: 1em; padding-right: 1em; text-align: center\">review</th>\n",
       "    </tr>\n",
       "    <tr>\n",
       "        <td style=\"padding-left: 1em; padding-right: 1em; text-align: center; vertical-align: top\">5</td>\n",
       "        <td style=\"padding-left: 1em; padding-right: 1em; text-align: center; vertical-align: top\">I received my Kingston<br>256MB SD card just as ...</td>\n",
       "    </tr>\n",
       "    <tr>\n",
       "        <td style=\"padding-left: 1em; padding-right: 1em; text-align: center; vertical-align: top\">4</td>\n",
       "        <td style=\"padding-left: 1em; padding-right: 1em; text-align: center; vertical-align: top\">Works well, especially<br>for anyone who still has ...</td>\n",
       "    </tr>\n",
       "    <tr>\n",
       "        <td style=\"padding-left: 1em; padding-right: 1em; text-align: center; vertical-align: top\">4</td>\n",
       "        <td style=\"padding-left: 1em; padding-right: 1em; text-align: center; vertical-align: top\">Not as easy to use as a<br>larger Panasonic I used ...</td>\n",
       "    </tr>\n",
       "</table>\n",
       "[3 rows x 2 columns]<br/>\n",
       "</div>"
      ],
      "text/plain": [
       "Columns:\n",
       "\trating\tint\n",
       "\treview\tstr\n",
       "\n",
       "Rows: 3\n",
       "\n",
       "Data:\n",
       "+--------+-------------------------------+\n",
       "| rating |             review            |\n",
       "+--------+-------------------------------+\n",
       "|   5    | I received my Kingston 256... |\n",
       "|   4    | Works well, especially for... |\n",
       "|   4    | Not as easy to use as a la... |\n",
       "+--------+-------------------------------+\n",
       "[3 rows x 2 columns]"
      ]
     },
     "execution_count": 5,
     "metadata": {},
     "output_type": "execute_result"
    }
   ],
   "source": [
    "review_sframe.head(3) # take a look at the data"
   ]
  },
  {
   "cell_type": "markdown",
   "metadata": {},
   "source": [
    "## **Build a model**\n",
    "Below we build the model, passing our two necessary columns to the function."
   ]
  },
  {
   "cell_type": "code",
   "execution_count": 6,
   "metadata": {},
   "outputs": [
    {
     "name": "stdout",
     "output_type": "stream",
     "text": [
      "PROGRESS: Creating a validation set from 5 percent of training data. This may take a while.\n",
      "          You can set ``validation_set=None`` to disable validation tracking.\n",
      "\n"
     ]
    },
    {
     "data": {
      "text/html": [
       "<pre>Logistic regression:</pre>"
      ],
      "text/plain": [
       "Logistic regression:"
      ]
     },
     "metadata": {},
     "output_type": "execute_result"
    },
    {
     "data": {
      "text/html": [
       "<pre>--------------------------------------------------------</pre>"
      ],
      "text/plain": [
       "--------------------------------------------------------"
      ]
     },
     "metadata": {},
     "output_type": "execute_result"
    },
    {
     "data": {
      "text/html": [
       "<pre>Number of examples          : 1903</pre>"
      ],
      "text/plain": [
       "Number of examples          : 1903"
      ]
     },
     "metadata": {},
     "output_type": "execute_result"
    },
    {
     "data": {
      "text/html": [
       "<pre>Number of classes           : 4</pre>"
      ],
      "text/plain": [
       "Number of classes           : 4"
      ]
     },
     "metadata": {},
     "output_type": "execute_result"
    },
    {
     "data": {
      "text/html": [
       "<pre>Number of feature columns   : 1</pre>"
      ],
      "text/plain": [
       "Number of feature columns   : 1"
      ]
     },
     "metadata": {},
     "output_type": "execute_result"
    },
    {
     "data": {
      "text/html": [
       "<pre>Number of unpacked features : 5694</pre>"
      ],
      "text/plain": [
       "Number of unpacked features : 5694"
      ]
     },
     "metadata": {},
     "output_type": "execute_result"
    },
    {
     "data": {
      "text/html": [
       "<pre>Number of coefficients      : 17085</pre>"
      ],
      "text/plain": [
       "Number of coefficients      : 17085"
      ]
     },
     "metadata": {},
     "output_type": "execute_result"
    },
    {
     "data": {
      "text/html": [
       "<pre>Starting L-BFGS</pre>"
      ],
      "text/plain": [
       "Starting L-BFGS"
      ]
     },
     "metadata": {},
     "output_type": "execute_result"
    },
    {
     "data": {
      "text/html": [
       "<pre>--------------------------------------------------------</pre>"
      ],
      "text/plain": [
       "--------------------------------------------------------"
      ]
     },
     "metadata": {},
     "output_type": "execute_result"
    },
    {
     "data": {
      "text/html": [
       "<pre>+-----------+----------+-----------+--------------+-------------------+---------------------+</pre>"
      ],
      "text/plain": [
       "+-----------+----------+-----------+--------------+-------------------+---------------------+"
      ]
     },
     "metadata": {},
     "output_type": "execute_result"
    },
    {
     "data": {
      "text/html": [
       "<pre>| Iteration | Passes   | Step size | Elapsed Time | Training Accuracy | Validation Accuracy |</pre>"
      ],
      "text/plain": [
       "| Iteration | Passes   | Step size | Elapsed Time | Training Accuracy | Validation Accuracy |"
      ]
     },
     "metadata": {},
     "output_type": "execute_result"
    },
    {
     "data": {
      "text/html": [
       "<pre>+-----------+----------+-----------+--------------+-------------------+---------------------+</pre>"
      ],
      "text/plain": [
       "+-----------+----------+-----------+--------------+-------------------+---------------------+"
      ]
     },
     "metadata": {},
     "output_type": "execute_result"
    },
    {
     "data": {
      "text/html": [
       "<pre>| 0         | 1        | NaN       | 1.029464     | 0.341566          | 0.288660            |</pre>"
      ],
      "text/plain": [
       "| 0         | 1        | NaN       | 1.029464     | 0.341566          | 0.288660            |"
      ]
     },
     "metadata": {},
     "output_type": "execute_result"
    },
    {
     "data": {
      "text/html": [
       "<pre>| 1         | 3        | 0.000525  | 1.062979     | 0.631109          | 0.484536            |</pre>"
      ],
      "text/plain": [
       "| 1         | 3        | 0.000525  | 1.062979     | 0.631109          | 0.484536            |"
      ]
     },
     "metadata": {},
     "output_type": "execute_result"
    },
    {
     "data": {
      "text/html": [
       "<pre>| 2         | 5        | 1.000000  | 1.098394     | 0.920652          | 0.525773            |</pre>"
      ],
      "text/plain": [
       "| 2         | 5        | 1.000000  | 1.098394     | 0.920652          | 0.525773            |"
      ]
     },
     "metadata": {},
     "output_type": "execute_result"
    },
    {
     "data": {
      "text/html": [
       "<pre>| 3         | 6        | 1.000000  | 1.120600     | 0.935891          | 0.536082            |</pre>"
      ],
      "text/plain": [
       "| 3         | 6        | 1.000000  | 1.120600     | 0.935891          | 0.536082            |"
      ]
     },
     "metadata": {},
     "output_type": "execute_result"
    },
    {
     "data": {
      "text/html": [
       "<pre>| 4         | 7        | 1.000000  | 1.142709     | 0.979506          | 0.515464            |</pre>"
      ],
      "text/plain": [
       "| 4         | 7        | 1.000000  | 1.142709     | 0.979506          | 0.515464            |"
      ]
     },
     "metadata": {},
     "output_type": "execute_result"
    },
    {
     "data": {
      "text/html": [
       "<pre>| 5         | 8        | 1.000000  | 1.166647     | 0.992643          | 0.515464            |</pre>"
      ],
      "text/plain": [
       "| 5         | 8        | 1.000000  | 1.166647     | 0.992643          | 0.515464            |"
      ]
     },
     "metadata": {},
     "output_type": "execute_result"
    },
    {
     "data": {
      "text/html": [
       "<pre>| 10        | 13       | 1.000000  | 1.282555     | 1.000000          | 0.525773            |</pre>"
      ],
      "text/plain": [
       "| 10        | 13       | 1.000000  | 1.282555     | 1.000000          | 0.525773            |"
      ]
     },
     "metadata": {},
     "output_type": "execute_result"
    },
    {
     "data": {
      "text/html": [
       "<pre>+-----------+----------+-----------+--------------+-------------------+---------------------+</pre>"
      ],
      "text/plain": [
       "+-----------+----------+-----------+--------------+-------------------+---------------------+"
      ]
     },
     "metadata": {},
     "output_type": "execute_result"
    },
    {
     "data": {
      "text/html": [
       "<pre>Completed (Iteration limit reached).</pre>"
      ],
      "text/plain": [
       "Completed (Iteration limit reached)."
      ]
     },
     "metadata": {},
     "output_type": "execute_result"
    },
    {
     "data": {
      "text/html": [
       "<pre>This model may not be optimal. To improve it, consider increasing `max_iterations`.</pre>"
      ],
      "text/plain": [
       "This model may not be optimal. To improve it, consider increasing `max_iterations`."
      ]
     },
     "metadata": {},
     "output_type": "execute_result"
    }
   ],
   "source": [
    "# build the model\n",
    "model = tc.text_classifier.create(review_sframe, features=['review'], target='rating')"
   ]
  },
  {
   "cell_type": "code",
   "execution_count": 7,
   "metadata": {},
   "outputs": [
    {
     "data": {
      "text/plain": [
       "dtype: int\n",
       "Rows: 1\n",
       "[2]"
      ]
     },
     "execution_count": 7,
     "metadata": {},
     "output_type": "execute_result"
    }
   ],
   "source": [
    "# predict a bad review\n",
    "model.predict(tc.SFrame({'review' : ['This product didnt meet expectations']}))"
   ]
  },
  {
   "cell_type": "code",
   "execution_count": 8,
   "metadata": {},
   "outputs": [
    {
     "data": {
      "text/plain": [
       "dtype: int\n",
       "Rows: 1\n",
       "[5]"
      ]
     },
     "execution_count": 8,
     "metadata": {},
     "output_type": "execute_result"
    }
   ],
   "source": [
    "# predict a good review\n",
    "model.predict(tc.SFrame({'review' : ['This product far exceeded my expectations']}))"
   ]
  }
 ],
 "metadata": {
  "kernelspec": {
   "display_name": "Python 3",
   "language": "python",
   "name": "python3"
  },
  "language_info": {
   "codemirror_mode": {
    "name": "ipython",
    "version": 3
   },
   "file_extension": ".py",
   "mimetype": "text/x-python",
   "name": "python",
   "nbconvert_exporter": "python",
   "pygments_lexer": "ipython3",
   "version": "3.6.6"
  }
 },
 "nbformat": 4,
 "nbformat_minor": 2
}
